{
  "nbformat": 4,
  "nbformat_minor": 0,
  "metadata": {
    "colab": {
      "provenance": [],
      "authorship_tag": "ABX9TyPY+88j4HlYSYxP3BoKXiMl",
      "include_colab_link": true
    },
    "kernelspec": {
      "name": "python3",
      "display_name": "Python 3"
    },
    "language_info": {
      "name": "python"
    }
  },
  "cells": [
    {
      "cell_type": "markdown",
      "metadata": {
        "id": "view-in-github",
        "colab_type": "text"
      },
      "source": [
        "<a href=\"https://colab.research.google.com/github/abhishekmishra-bareilly/python/blob/main/Linear_Regression.ipynb\" target=\"_parent\"><img src=\"https://colab.research.google.com/assets/colab-badge.svg\" alt=\"Open In Colab\"/></a>"
      ]
    },
    {
      "cell_type": "code",
      "source": [
        "import matplotlib.pyplot as plt\n",
        "import numpy as np\n",
        "from sklearn import linear_model\n",
        "from sklearn.datasets import load_diabetes\n",
        "from sklearn.metrics import mean_squared_error"
      ],
      "metadata": {
        "id": "BpCTTc_cUMTN"
      },
      "execution_count": 7,
      "outputs": []
    },
    {
      "cell_type": "code",
      "source": [
        "\n",
        "diabetes_X  =  np.array([[1], [2], [4]])"
      ],
      "metadata": {
        "id": "y7qLOuvrU0yB"
      },
      "execution_count": 11,
      "outputs": []
    },
    {
      "cell_type": "code",
      "source": [
        "diabetes_X_train=diabetes_X\n",
        "diabetes_X_test=diabetes_X\n",
        "diabetes_X_test"
      ],
      "metadata": {
        "colab": {
          "base_uri": "https://localhost:8080/"
        },
        "id": "J1BA4EMMXO8W",
        "outputId": "7dc52af6-743c-48d9-9785-5d56595bf8cf"
      },
      "execution_count": 12,
      "outputs": [
        {
          "output_type": "execute_result",
          "data": {
            "text/plain": [
              "array([[1],\n",
              "       [2],\n",
              "       [4]])"
            ]
          },
          "metadata": {},
          "execution_count": 12
        }
      ]
    },
    {
      "cell_type": "code",
      "source": [
        "diabetes_y_train=np.array([3, 2, 4])\n",
        "diabetes_y_test=np.array([3, 2, 4])\n"
      ],
      "metadata": {
        "id": "LFP7cGFdXznI"
      },
      "execution_count": 13,
      "outputs": []
    },
    {
      "cell_type": "code",
      "source": [
        "model=linear_model.LinearRegression()\n",
        "model.fit(diabetes_X_train, diabetes_y_train)\n",
        "diabetes_y_predicted = model.predict(diabetes_X_test)\n"
      ],
      "metadata": {
        "id": "gntRTnDUYnLL"
      },
      "execution_count": 14,
      "outputs": []
    },
    {
      "cell_type": "code",
      "source": [
        "print(\"Mean squared error is:  \", mean_squared_error(diabetes_y_test, diabetes_y_predicted))\n",
        "print(\"Weights:  \",  model.coef_)\n",
        "print(\"Intercept:  \",  model.intercept_)"
      ],
      "metadata": {
        "colab": {
          "base_uri": "https://localhost:8080/"
        },
        "id": "z3iFT-8rZJN6",
        "outputId": "a98f91c2-f761-4a62-c647-0786098a078e"
      },
      "execution_count": 15,
      "outputs": [
        {
          "output_type": "stream",
          "name": "stdout",
          "text": [
            "Mean squared error is:   0.380952380952381\n",
            "Weights:   [0.42857143]\n",
            "Intercept:   1.9999999999999998\n"
          ]
        }
      ]
    },
    {
      "cell_type": "code",
      "source": [
        "plt.scatter(diabetes_X_test, diabetes_y_test)\n",
        "plt.plot(diabetes_X_test, diabetes_y_predicted)\n",
        "plt.show()"
      ],
      "metadata": {
        "id": "AV1wtHgYaU4P",
        "colab": {
          "base_uri": "https://localhost:8080/",
          "height": 265
        },
        "outputId": "04db65ec-49a0-4d67-c414-9ca00323a8a6"
      },
      "execution_count": 16,
      "outputs": [
        {
          "output_type": "display_data",
          "data": {
            "text/plain": [
              "<Figure size 432x288 with 1 Axes>"
            ],
            "image/png": "[encoded data removed]"
          },
          "metadata": {
            "needs_background": "light"
          }
        }
      ]
    }
  ]
}
